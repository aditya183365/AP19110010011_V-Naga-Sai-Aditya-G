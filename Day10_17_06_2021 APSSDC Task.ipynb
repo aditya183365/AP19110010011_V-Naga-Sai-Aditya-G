{
 "cells": [
  {
   "cell_type": "markdown",
   "metadata": {},
   "source": [
    "## Task 9\n",
    "\n",
    "- Generate 3-Digit OTP from two different classes(Mail Class & Phone Class)\n",
    "- Return 6-digit OTP from Base classes(super classes)\n"
   ]
  },
  {
   "cell_type": "code",
   "execution_count": 2,
   "metadata": {},
   "outputs": [],
   "source": [
    "import random\n",
    "class Mail():\n",
    "    def __init__(self):\n",
    "        self.otp_one = random.randint(000,999)\n",
    "        print(\"3-digit OTP is :\",self.otp_one)\n",
    "class Phone():\n",
    "    def __init__(self):\n",
    "        self.otp_two = random.randint(000,999)\n",
    "        print(\"3-digit OTP:\", self.otp_two)\n",
    "class BaseClass():\n",
    "    def __init__(self):\n",
    "        Mail.__init__(self)\n",
    "        Phone.__init__(self)\n",
    "        print(\"6-digit OTP:\",(str(self.otp_one)+str(self.otp_two)))"
   ]
  },
  {
   "cell_type": "code",
   "execution_count": 3,
   "metadata": {},
   "outputs": [
    {
     "name": "stdout",
     "output_type": "stream",
     "text": [
      "3-digit OTP is : 807\n",
      "3-digit OTP: 707\n",
      "6-digit OTP: 807707\n"
     ]
    }
   ],
   "source": [
    "obj = BaseClass()"
   ]
  },
  {
   "cell_type": "code",
   "execution_count": 4,
   "metadata": {},
   "outputs": [
    {
     "name": "stdout",
     "output_type": "stream",
     "text": [
      "3-digit OTP is : 108\n",
      "3-digit OTP: 720\n",
      "6-digit OTP: 108720\n"
     ]
    }
   ],
   "source": [
    "obj = BaseClass()"
   ]
  }
 ],
 "metadata": {
  "kernelspec": {
   "display_name": "Python 3",
   "language": "python",
   "name": "python3"
  },
  "language_info": {
   "codemirror_mode": {
    "name": "ipython",
    "version": 3
   },
   "file_extension": ".py",
   "mimetype": "text/x-python",
   "name": "python",
   "nbconvert_exporter": "python",
   "pygments_lexer": "ipython3",
   "version": "3.8.5"
  }
 },
 "nbformat": 4,
 "nbformat_minor": 4
}
