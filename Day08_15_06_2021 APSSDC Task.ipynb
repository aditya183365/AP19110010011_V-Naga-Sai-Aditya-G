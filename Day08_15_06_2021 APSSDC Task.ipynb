{
 "cells": [
  {
   "cell_type": "markdown",
   "metadata": {},
   "source": [
    "\n",
    "## Task 7\n",
    "- Create a function for finding the leap years in the given range"
   ]
  },
  {
   "cell_type": "code",
   "execution_count": 1,
   "metadata": {},
   "outputs": [
    {
     "name": "stdout",
     "output_type": "stream",
     "text": [
      "Enter the start range: 2001\n",
      "Enter the end range: 2020\n",
      "Between the range 2001 and 2020\n",
      "2004 is a leap year\n",
      "2008 is a leap year\n",
      "2012 is a leap year\n",
      "2016 is a leap year\n"
     ]
    }
   ],
   "source": [
    "def leap_year(year):\n",
    "    if (year%4 == 0 and year%100 != 0 or year%400 == 0):\n",
    "        return True\n",
    "    else:\n",
    "        return False\n",
    "start = int(input(\"Enter the start range: \"))\n",
    "end = int(input(\"Enter the end range: \"))\n",
    "print(\"Between the range\", start, \"and\", end)\n",
    "for i in range(start, end):\n",
    "    if leap_year(i) == True:\n",
    "        print(i,\"is a leap year\")"
   ]
  },
  {
   "cell_type": "code",
   "execution_count": 2,
   "metadata": {},
   "outputs": [
    {
     "name": "stdout",
     "output_type": "stream",
     "text": [
      "Enter the start range: 2001\n",
      "Enter the end range: 2050\n",
      "Between the range 2001 and 2050\n",
      "2004 is a leap year\n",
      "2008 is a leap year\n",
      "2012 is a leap year\n",
      "2016 is a leap year\n",
      "2020 is a leap year\n",
      "2024 is a leap year\n",
      "2028 is a leap year\n",
      "2032 is a leap year\n",
      "2036 is a leap year\n",
      "2040 is a leap year\n",
      "2044 is a leap year\n",
      "2048 is a leap year\n"
     ]
    }
   ],
   "source": [
    "def leap_year(year):\n",
    "    if (year%4 == 0 and year%100 != 0 or year%400 == 0):\n",
    "        return True\n",
    "    else:\n",
    "        return False\n",
    "start = int(input(\"Enter the start range: \"))\n",
    "end = int(input(\"Enter the end range: \"))\n",
    "print(\"Between the range\", start, \"and\", end)\n",
    "for i in range(start, end):\n",
    "    if leap_year(i) == True:\n",
    "        print(i,\"is a leap year\")"
   ]
  },
  {
   "cell_type": "markdown",
   "metadata": {},
   "source": [
    "- Create a function for getting the prime numbers within the range"
   ]
  },
  {
   "cell_type": "code",
   "execution_count": 3,
   "metadata": {},
   "outputs": [
    {
     "name": "stdout",
     "output_type": "stream",
     "text": [
      "Enter the start number 1\n",
      "Enter the final number 100\n",
      "The armstrong numbers from 1 to 100\n",
      "1\n",
      "2\n",
      "3\n",
      "4\n",
      "5\n",
      "6\n",
      "7\n",
      "8\n",
      "9\n"
     ]
    }
   ],
   "source": [
    "def armstrong(a, b):\n",
    "    for i in range(a, b+1):\n",
    "        num = i\n",
    "        result = 0\n",
    "        n = len(str(i))\n",
    "        while(i != 0):\n",
    "            digit = i % 10\n",
    "            result = result + digit ** n\n",
    "            i = i//10\n",
    "        if num == result:\n",
    "            print(num)\n",
    "initial = int(input(\"Enter the start number \"))\n",
    "final = int(input(\"Enter the final number \"))\n",
    "print(\"The armstrong numbers from\", initial, \"to\", final)\n",
    "armstrong(initial, final)"
   ]
  },
  {
   "cell_type": "markdown",
   "metadata": {},
   "source": [
    "- Create a function for getting the prime numbers within the range"
   ]
  },
  {
   "cell_type": "code",
   "execution_count": 6,
   "metadata": {},
   "outputs": [
    {
     "name": "stdout",
     "output_type": "stream",
     "text": [
      "Enter the start number 1\n",
      "Enter the end number 20\n",
      "Prime numbers between 1 and 20\n",
      "1 is a prime number\n",
      "2 is a prime number\n",
      "3 is a prime number\n",
      "5 is a prime number\n",
      "7 is a prime number\n",
      "11 is a prime number\n",
      "13 is a prime number\n",
      "17 is a prime number\n",
      "19 is a prime number\n"
     ]
    }
   ],
   "source": [
    "def prime(r1, r2):\n",
    "    for num in range(r1, r2+1):\n",
    "        for i in range(2, num):\n",
    "            if num%i == 0:\n",
    "                break\n",
    "        else:\n",
    "            print(num,\"is a prime number\")\n",
    "prime_start = int(input(\"Enter the start number \"))\n",
    "prime_end = int(input(\"Enter the end number \"))\n",
    "print(\"Prime numbers between\", prime_start, \"and\", prime_end)\n",
    "prime(prime_start,prime_end)"
   ]
  },
  {
   "cell_type": "markdown",
   "metadata": {},
   "source": [
    "\n",
    "- Create a function for finding the count of elements in a string"
   ]
  },
  {
   "cell_type": "code",
   "execution_count": 8,
   "metadata": {},
   "outputs": [
    {
     "name": "stdout",
     "output_type": "stream",
     "text": [
      "Enter the string Aditya AP19110010011\n",
      "The string is: Aditya AP19110010011\n",
      "Count of elements in string is: 20\n"
     ]
    }
   ],
   "source": [
    "def count(string):\n",
    "    string_count = 0\n",
    "    for i in string:\n",
    "        string_count = string_count + 1\n",
    "    return count_str \n",
    "inp = input(\"Enter the string \")\n",
    "print(\"The string is:\", inp)\n",
    "print(\"Count of elements in string is:\",count(inp))"
   ]
  }
 ],
 "metadata": {
  "kernelspec": {
   "display_name": "Python 3",
   "language": "python",
   "name": "python3"
  },
  "language_info": {
   "codemirror_mode": {
    "name": "ipython",
    "version": 3
   },
   "file_extension": ".py",
   "mimetype": "text/x-python",
   "name": "python",
   "nbconvert_exporter": "python",
   "pygments_lexer": "ipython3",
   "version": "3.8.5"
  }
 },
 "nbformat": 4,
 "nbformat_minor": 4
}
