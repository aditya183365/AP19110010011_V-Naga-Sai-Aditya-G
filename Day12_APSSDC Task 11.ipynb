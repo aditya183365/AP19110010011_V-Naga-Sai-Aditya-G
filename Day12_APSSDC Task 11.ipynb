{
 "cells": [
  {
   "cell_type": "markdown",
   "metadata": {},
   "source": [
    "## Task 11\n",
    "- Take a list of years between 1800 to 2300, display all the leap years which is divisible by 5."
   ]
  },
  {
   "cell_type": "code",
   "execution_count": 1,
   "metadata": {},
   "outputs": [
    {
     "name": "stdout",
     "output_type": "stream",
     "text": [
      "Leap years which are divisible by 5 and between 1800 to 2300 are:\n",
      "[1820, 1840, 1860, 1880, 1920, 1940, 1960, 1980, 2000, 2020, 2040, 2060, 2080, 2120, 2140, 2160, 2180, 2220, 2240, 2260, 2280]\n"
     ]
    }
   ],
   "source": [
    "year_start = 1800\n",
    "year_end = 2300\n",
    "print(\"Leap years which are divisible by 5 and between 1800 to 2300 are:\")\n",
    "print([i for i in range(year_start, year_end + 1) if (i%4 == 0 and i%100 != 0 and i%5==0) or (i%400 == 0)])"
   ]
  }
 ],
 "metadata": {
  "kernelspec": {
   "display_name": "Python 3",
   "language": "python",
   "name": "python3"
  },
  "language_info": {
   "codemirror_mode": {
    "name": "ipython",
    "version": 3
   },
   "file_extension": ".py",
   "mimetype": "text/x-python",
   "name": "python",
   "nbconvert_exporter": "python",
   "pygments_lexer": "ipython3",
   "version": "3.8.5"
  }
 },
 "nbformat": 4,
 "nbformat_minor": 4
}
