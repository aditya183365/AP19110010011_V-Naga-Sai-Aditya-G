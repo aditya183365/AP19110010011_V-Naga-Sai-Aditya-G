{
 "cells": [
  {
   "cell_type": "markdown",
   "metadata": {},
   "source": [
    "\n",
    "## Task 3\n",
    "## Take input from the user\n",
    "## Check the length of the string even or odd\n",
    "## If the string length is odd access one middle character\n",
    "## If the string length is even access two middle characters"
   ]
  },
  {
   "cell_type": "markdown",
   "metadata": {},
   "source": [
    "## Odd length of String"
   ]
  },
  {
   "cell_type": "code",
   "execution_count": null,
   "metadata": {},
   "outputs": [],
   "source": [
    "string = input(\"Enter the string: \")\n",
    "middle = len(string)//2\n",
    "if len(string)%2==0:\n",
    "    print(string[middle:middle+2])\n",
    "else:\n",
    "    print(string[middle])"
   ]
  },
  {
   "cell_type": "markdown",
   "metadata": {},
   "source": [
    "## even length of string"
   ]
  },
  {
   "cell_type": "code",
   "execution_count": 4,
   "metadata": {},
   "outputs": [
    {
     "name": "stdout",
     "output_type": "stream",
     "text": [
      "Enter the string: Aditya\n",
      "ty\n"
     ]
    }
   ],
   "source": [
    "string = input(\"Enter the string: \")\n",
    "middle = len(string)//2\n",
    "if len(string)%2==0:\n",
    "    print(string[middle:middle+2])\n",
    "else:\n",
    "    print(string[middle])"
   ]
  }
 ],
 "metadata": {
  "kernelspec": {
   "display_name": "Python 3",
   "language": "python",
   "name": "python3"
  },
  "language_info": {
   "codemirror_mode": {
    "name": "ipython",
    "version": 3
   },
   "file_extension": ".py",
   "mimetype": "text/x-python",
   "name": "python",
   "nbconvert_exporter": "python",
   "pygments_lexer": "ipython3",
   "version": "3.8.5"
  }
 },
 "nbformat": 4,
 "nbformat_minor": 4
}
