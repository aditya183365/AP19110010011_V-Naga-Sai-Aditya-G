{
 "cells": [
  {
   "cell_type": "markdown",
   "metadata": {
    "id": "-YPPb07Cd5Pn"
   },
   "source": [
    "## Task 10\n",
    "- Write a program for getting the last five line from the file"
   ]
  },
  {
   "cell_type": "code",
   "execution_count": 1,
   "metadata": {
    "id": "5gGO9Sr-d5Pq",
    "outputId": "e4c93393-8719-435e-f8bc-17d99df7912d"
   },
   "outputs": [
    {
     "name": "stdout",
     "output_type": "stream",
     "text": [
      "Writing Aditya.txt\n"
     ]
    }
   ],
   "source": [
    "%%writefile Aditya.txt\n",
    "Hii this is Aditya\n",
    "Hello this is Aditya\n",
    "Hey this is Aditya\n",
    "Who is Aditya"
   ]
  },
  {
   "cell_type": "code",
   "execution_count": 2,
   "metadata": {
    "id": "IXgY3DL0d5Ps",
    "outputId": "c08f78ab-9d49-473c-dfc4-310d350bb101"
   },
   "outputs": [
    {
     "name": "stdout",
     "output_type": "stream",
     "text": [
      "['Hii this is Aditya\\n', 'Hello this is Aditya\\n', 'Hey this is Aditya\\n', 'Who is Aditya\\n']\n"
     ]
    }
   ],
   "source": [
    "with open(\"Aditya.txt\", \"r\") as f:\n",
    "    contents = f.readlines()\n",
    "    lines = contents[-5:]\n",
    "    print(lines)"
   ]
  },
  {
   "cell_type": "markdown",
   "metadata": {
    "id": "8B_qiLfkd5Ps"
   },
   "source": [
    "## Create a function for appending the data into the file"
   ]
  },
  {
   "cell_type": "code",
   "execution_count": 4,
   "metadata": {
    "id": "a0n4Sg6hd5Pt"
   },
   "outputs": [],
   "source": [
    "with open(\"Aditya.txt\", \"r\") as f:\n",
    "    contents = f.read()"
   ]
  },
  {
   "cell_type": "code",
   "execution_count": 5,
   "metadata": {
    "id": "veORzPVZd5Pt",
    "outputId": "ad868ebb-8aa4-4d87-87f1-19025a223026"
   },
   "outputs": [
    {
     "data": {
      "text/plain": [
       "'Hii this is Aditya\\nHello this is Aditya\\nHey this is Aditya\\nWho is Aditya\\n'"
      ]
     },
     "execution_count": 5,
     "metadata": {},
     "output_type": "execute_result"
    }
   ],
   "source": [
    "contents"
   ]
  },
  {
   "cell_type": "code",
   "execution_count": 8,
   "metadata": {
    "id": "XX-vMZ6Md5Pu",
    "outputId": "8e45ae39-9289-4c45-df0d-36e17588ee48"
   },
   "outputs": [
    {
     "name": "stdout",
     "output_type": "stream",
     "text": [
      "Enter the name of the file: Aditya.txt\n",
      "Enter the data to append: hello aditya\n"
     ]
    }
   ],
   "source": [
    "def data_append(file_name, string):\n",
    "    with open(file_name, \"a\") as f:\n",
    "        f.write(string)\n",
    "name_of_the_file = input(\"Enter the name of the file: \")\n",
    "data = input(\"Enter the data to append: \")\n",
    "data_append(name_of_the_file, data)"
   ]
  },
  {
   "cell_type": "code",
   "execution_count": 9,
   "metadata": {
    "id": "OOy0fxWvd5Pv"
   },
   "outputs": [],
   "source": [
    "with open(\"Aditya.txt\", \"r\") as f:\n",
    "    contents = f.read()"
   ]
  },
  {
   "cell_type": "code",
   "execution_count": 10,
   "metadata": {
    "id": "koQ76r_md5Pv",
    "outputId": "a9aa9368-30e9-4bcb-9e8c-fd1dd1d40b89"
   },
   "outputs": [
    {
     "data": {
      "text/plain": [
       "'Hii this is Aditya\\nHello this is Aditya\\nHey this is Aditya\\nWho is Aditya\\nhello adityahello aditya'"
      ]
     },
     "execution_count": 10,
     "metadata": {},
     "output_type": "execute_result"
    }
   ],
   "source": [
    "\n",
    "contents"
   ]
  },
  {
   "cell_type": "markdown",
   "metadata": {
    "id": "7gGMGbHMd5Pw"
   },
   "source": [
    "## Create a program for updating a word in the file"
   ]
  },
  {
   "cell_type": "code",
   "execution_count": 11,
   "metadata": {
    "id": "IHVMXsafd5Pw",
    "outputId": "ac10bcde-937b-4bdf-dc2d-321357d17553"
   },
   "outputs": [
    {
     "name": "stdout",
     "output_type": "stream",
     "text": [
      "Writing Aditya1.txt\n"
     ]
    }
   ],
   "source": [
    "%%writefile Aditya1.txt\n",
    "This is a Program"
   ]
  },
  {
   "cell_type": "code",
   "execution_count": 12,
   "metadata": {
    "id": "37Mr0mhrd5Px",
    "outputId": "daf5d597-df4d-481b-b46f-f41f69110220"
   },
   "outputs": [
    {
     "data": {
      "text/plain": [
       "'This is a Program\\n'"
      ]
     },
     "execution_count": 12,
     "metadata": {},
     "output_type": "execute_result"
    }
   ],
   "source": [
    "with open(\"Aditya1.txt\", \"r\") as f:\n",
    "    contents = f.read()\n",
    "contents"
   ]
  },
  {
   "cell_type": "code",
   "execution_count": 13,
   "metadata": {
    "id": "6jaSl8Cpd5Px",
    "outputId": "51608e25-36fd-48bf-f9eb-123a51c5dbf9"
   },
   "outputs": [
    {
     "data": {
      "text/plain": [
       "'This is a Python Program\\n'"
      ]
     },
     "execution_count": 13,
     "metadata": {},
     "output_type": "execute_result"
    }
   ],
   "source": [
    "import re\n",
    "with open(\"Aditya1.txt\", \"r+\") as f:\n",
    "    word = f.read()\n",
    "    word = re.sub('Program', 'Python Program',word) #Replacing 'Program' with 'Python Program'\n",
    "    f.seek(0)\n",
    "    f.write(word)\n",
    "    f.truncate()\n",
    "word"
   ]
  }
 ],
 "metadata": {
  "colab": {
   "name": "Day11_18_06_2021_Task10_APSSDC.ipynb",
   "provenance": []
  },
  "kernelspec": {
   "display_name": "Python 3",
   "language": "python",
   "name": "python3"
  },
  "language_info": {
   "codemirror_mode": {
    "name": "ipython",
    "version": 3
   },
   "file_extension": ".py",
   "mimetype": "text/x-python",
   "name": "python",
   "nbconvert_exporter": "python",
   "pygments_lexer": "ipython3",
   "version": "3.8.5"
  }
 },
 "nbformat": 4,
 "nbformat_minor": 1
}
