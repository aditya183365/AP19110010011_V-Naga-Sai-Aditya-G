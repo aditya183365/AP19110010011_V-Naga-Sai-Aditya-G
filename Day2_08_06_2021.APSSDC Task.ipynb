{
 "cells": [
  {
   "cell_type": "markdown",
   "metadata": {},
   "source": [
    "## TASK_1_APSSDC_08/06/2021\n",
    "## Task:\n",
    "## Write a program to check wheather the user eligible for vote or not\n",
    "## Check the given number is positive or negative\n",
    "## Check the given number is even or odd if it's even check which is divisible by 4 or not\n",
    "## Write a program to print student grade based on percentage like Distinction,pass or fail\n",
    "## Check the given year is Leap or not\n",
    "## Write a program to check wheather the user eligible for vote or not"
   ]
  },
  {
   "cell_type": "code",
   "execution_count": 1,
   "metadata": {},
   "outputs": [
    {
     "name": "stdout",
     "output_type": "stream",
     "text": [
      "Enter your age22\n",
      "You're eligible to vote!\n"
     ]
    }
   ],
   "source": [
    "age = int(input(\"Enter your age\"))\n",
    "if age < 18:\n",
    "    print(\"You are not eligible to vote\")\n",
    "else:\n",
    "    print(\"You're eligible to vote!\")"
   ]
  },
  {
   "cell_type": "code",
   "execution_count": 4,
   "metadata": {},
   "outputs": [
    {
     "name": "stdout",
     "output_type": "stream",
     "text": [
      "Enter your age15\n",
      "You are not eligible to vote\n"
     ]
    }
   ],
   "source": [
    "age = int(input(\"Enter your age\"))\n",
    "if age < 18:\n",
    "    print(\"You are not eligible to vote\")\n",
    "else:\n",
    "    print(\"You're eligible to vote!\")"
   ]
  },
  {
   "cell_type": "markdown",
   "metadata": {},
   "source": [
    "## check if the given number is positvie or negative"
   ]
  },
  {
   "cell_type": "code",
   "execution_count": 2,
   "metadata": {},
   "outputs": [
    {
     "name": "stdout",
     "output_type": "stream",
     "text": [
      "Enter the number -1\n",
      "The number is negative!\n"
     ]
    }
   ],
   "source": [
    "\n",
    "num = int(input(\"Enter the number \"))\n",
    "if num<0:\n",
    "    print(\"The number is negative!\")\n",
    "else:\n",
    "    print(\"The number is positive!\")"
   ]
  },
  {
   "cell_type": "code",
   "execution_count": 3,
   "metadata": {},
   "outputs": [
    {
     "name": "stdout",
     "output_type": "stream",
     "text": [
      "Enter the number 10\n",
      "The number is positive!\n"
     ]
    }
   ],
   "source": [
    "\n",
    "num = int(input(\"Enter the number \"))\n",
    "if num<0:\n",
    "    print(\"The number is negative!\")\n",
    "else:\n",
    "    print(\"The number is positive!\")"
   ]
  },
  {
   "cell_type": "markdown",
   "metadata": {},
   "source": [
    "## Check the given number is even or odd if it's even check which is divisible by 4 or not"
   ]
  },
  {
   "cell_type": "code",
   "execution_count": 7,
   "metadata": {},
   "outputs": [
    {
     "name": "stdout",
     "output_type": "stream",
     "text": [
      "Enter the number6\n",
      "6 is even\n"
     ]
    }
   ],
   "source": [
    "num = int(input(\"Enter the number\"))\n",
    "if num % 2 == 0:\n",
    "    print(\"{} is even\".format(num))\n",
    "elif num % 2 == 0:\n",
    "    print(\"{} is even\".format(num))\n",
    "    if num % 4 == 0:\n",
    "        print(\"{} is divisible by 4 \".format(num))\n",
    "    else:\n",
    "        print(\"{} is not divisible by 4 \".format(num))\n",
    "else:\n",
    "    print(\"{} is odd number\".format(num))"
   ]
  },
  {
   "cell_type": "code",
   "execution_count": 8,
   "metadata": {},
   "outputs": [
    {
     "name": "stdout",
     "output_type": "stream",
     "text": [
      "Enter the number3\n",
      "3 is odd number\n"
     ]
    }
   ],
   "source": [
    "num = int(input(\"Enter the number\"))\n",
    "if num % 2 == 0:\n",
    "    print(\"{} is even\".format(num))\n",
    "elif num % 2 == 0:\n",
    "    print(\"{} is even\".format(num))\n",
    "    if num % 4 == 0:\n",
    "        print(\"{} is divisible by 4 \".format(num))\n",
    "    else:\n",
    "        print(\"{} is not divisible by 4 \".format(num))\n",
    "else:\n",
    "    print(\"{} is odd number\".format(num))"
   ]
  },
  {
   "cell_type": "markdown",
   "metadata": {},
   "source": [
    "## Write a program to print student grade based on percentage like Distinction,pass or fail"
   ]
  },
  {
   "cell_type": "code",
   "execution_count": 12,
   "metadata": {},
   "outputs": [
    {
     "name": "stdout",
     "output_type": "stream",
     "text": [
      "Enter your percentage(%) 100\n",
      "Distinction\n"
     ]
    }
   ],
   "source": [
    "\n",
    "student_percentage = int(input(\"Enter your percentage(%) \"))\n",
    "if student_percentage >= 90 and student_percentage <= 100:\n",
    "    print(\"Distinction\")\n",
    "elif student_percentage >= 50 and student_percentage < 90:\n",
    "    print(\"Pass\")\n",
    "elif student_percentage < 50 and student_percentage > 0:\n",
    "    print(\"Fail\")\n",
    "else:\n",
    "    print(\"Enter a valid percentage\")"
   ]
  },
  {
   "cell_type": "code",
   "execution_count": 13,
   "metadata": {},
   "outputs": [
    {
     "name": "stdout",
     "output_type": "stream",
     "text": [
      "Enter your percentage(%) 30\n",
      "Fail\n"
     ]
    }
   ],
   "source": [
    "\n",
    "student_percentage = int(input(\"Enter your percentage(%) \"))\n",
    "if student_percentage >= 90 and student_percentage <= 100:\n",
    "    print(\"Distinction\")\n",
    "elif student_percentage >= 50 and student_percentage < 90:\n",
    "    print(\"Pass\")\n",
    "elif student_percentage < 50 and student_percentage > 0:\n",
    "    print(\"Fail\")\n",
    "else:\n",
    "    print(\"Enter a valid percentage\")"
   ]
  },
  {
   "cell_type": "markdown",
   "metadata": {},
   "source": [
    "## Check the given year is Leap or not"
   ]
  },
  {
   "cell_type": "code",
   "execution_count": 14,
   "metadata": {},
   "outputs": [
    {
     "name": "stdout",
     "output_type": "stream",
     "text": [
      "Enter the year 2008\n",
      "The year is leap year!\n"
     ]
    }
   ],
   "source": [
    "year = int(input(\"Enter the year \"))\n",
    "if year%4 == 0 and year%100 != 0 or year%400 == 0:\n",
    "    print(\"The year is leap year!\")\n",
    "else:\n",
    "    print(\"The year isn't a leap year\")"
   ]
  },
  {
   "cell_type": "code",
   "execution_count": 15,
   "metadata": {},
   "outputs": [
    {
     "name": "stdout",
     "output_type": "stream",
     "text": [
      "Enter the year 2001\n",
      "The year isn't a leap year\n"
     ]
    }
   ],
   "source": [
    "year = int(input(\"Enter the year \"))\n",
    "if year%4 == 0 and year%100 != 0 or year%400 == 0:\n",
    "    print(\"The year is leap year!\")\n",
    "else:\n",
    "    print(\"The year isn't a leap year\")"
   ]
  },
  {
   "cell_type": "code",
   "execution_count": null,
   "metadata": {},
   "outputs": [],
   "source": []
  }
 ],
 "metadata": {
  "kernelspec": {
   "display_name": "Python 3",
   "language": "python",
   "name": "python3"
  },
  "language_info": {
   "codemirror_mode": {
    "name": "ipython",
    "version": 3
   },
   "file_extension": ".py",
   "mimetype": "text/x-python",
   "name": "python",
   "nbconvert_exporter": "python",
   "pygments_lexer": "ipython3",
   "version": "3.8.5"
  }
 },
 "nbformat": 4,
 "nbformat_minor": 4
}
