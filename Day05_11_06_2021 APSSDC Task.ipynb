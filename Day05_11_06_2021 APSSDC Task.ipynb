{
 "cells": [
  {
   "cell_type": "markdown",
   "metadata": {},
   "source": [
    "## Write a python program that takes two lists and returns true if they have atleast one common member"
   ]
  },
  {
   "cell_type": "code",
   "execution_count": 1,
   "metadata": {},
   "outputs": [
    {
     "name": "stdout",
     "output_type": "stream",
     "text": [
      "Enter elements into list10, 20, 30, 100\n",
      "Enter elements into list11, 20, 50, 17\n"
     ]
    },
    {
     "data": {
      "text/plain": [
       "True"
      ]
     },
     "execution_count": 1,
     "metadata": {},
     "output_type": "execute_result"
    }
   ],
   "source": [
    "def common_num_in_list(list_1, list_2):\n",
    "    result = False\n",
    "    for i in list_1:\n",
    "        if i in list_2:\n",
    "            result = True\n",
    "            break\n",
    "    return result\n",
    "\n",
    "list_one = []\n",
    "list_one = input(\"Enter elements into list\").split()\n",
    "\n",
    "list_two = []\n",
    "list_two = input(\"Enter elements into list\").split()\n",
    "\n",
    "common_num_in_list(list_one, list_two)"
   ]
  },
  {
   "cell_type": "code",
   "execution_count": 3,
   "metadata": {},
   "outputs": [
    {
     "name": "stdout",
     "output_type": "stream",
     "text": [
      "Enter elements into list1, 2, 3, 4, 5\n",
      "Enter elements into list6, 7, 8, 9, 10\n"
     ]
    },
    {
     "data": {
      "text/plain": [
       "False"
      ]
     },
     "execution_count": 3,
     "metadata": {},
     "output_type": "execute_result"
    }
   ],
   "source": [
    "def common_num_in_list(list_1, list_2):\n",
    "    result = False\n",
    "    for i in list_1:\n",
    "        if i in list_2:\n",
    "            result = True\n",
    "            break\n",
    "    return result\n",
    "\n",
    "list_one = []\n",
    "list_one = input(\"Enter elements into list\").split()\n",
    "\n",
    "list_two = []\n",
    "list_two = input(\"Enter elements into list\").split()\n",
    "\n",
    "common_num_in_list(list_one, list_two)"
   ]
  }
 ],
 "metadata": {
  "kernelspec": {
   "display_name": "Python 3",
   "language": "python",
   "name": "python3"
  },
  "language_info": {
   "codemirror_mode": {
    "name": "ipython",
    "version": 3
   },
   "file_extension": ".py",
   "mimetype": "text/x-python",
   "name": "python",
   "nbconvert_exporter": "python",
   "pygments_lexer": "ipython3",
   "version": "3.8.5"
  }
 },
 "nbformat": 4,
 "nbformat_minor": 4
}
